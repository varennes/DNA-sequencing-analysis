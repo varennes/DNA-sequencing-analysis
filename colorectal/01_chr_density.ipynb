{
 "cells": [
  {
   "cell_type": "code",
   "execution_count": 1,
   "metadata": {
    "collapsed": true
   },
   "outputs": [],
   "source": [
    "import pandas as pd\n",
    "import numpy as np\n",
    "import seaborn as sns\n",
    "import matplotlib.pyplot as plt\n",
    "\n",
    "% matplotlib inline"
   ]
  },
  {
   "cell_type": "code",
   "execution_count": 2,
   "metadata": {},
   "outputs": [],
   "source": [
    "df0 = pd.read_table( 'data_colorectal.txt', header=None, names=[ 'chr', 'pos', 'ref', 'alt', 'ID'], low_memory=False)\n",
    "df0.chr = df0.chr.astype(str)\n",
    "df0.ref = df0.ref.astype(str)\n",
    "df0.alt = df0.alt.astype(str)\n",
    "df0.ID = df0.ID.astype(str)"
   ]
  },
  {
   "cell_type": "code",
   "execution_count": 3,
   "metadata": {
    "collapsed": true
   },
   "outputs": [],
   "source": [
    "chrList = np.sort(df0.chr.unique())"
   ]
  },
  {
   "cell_type": "code",
   "execution_count": 4,
   "metadata": {},
   "outputs": [
    {
     "name": "stderr",
     "output_type": "stream",
     "text": [
      "/home/julien/anaconda2/lib/python2.7/site-packages/pandas/core/indexing.py:179: SettingWithCopyWarning: \n",
      "A value is trying to be set on a copy of a slice from a DataFrame\n",
      "\n",
      "See the caveats in the documentation: http://pandas.pydata.org/pandas-docs/stable/indexing.html#indexing-view-versus-copy\n",
      "  self._setitem_with_indexer(indexer, value)\n"
     ]
    }
   ],
   "source": [
    "hg19_chrLength = pd.read_table( 'hg19_chr_sizes.txt', header=None, names=[ 'chr', 'length'], low_memory=False)\n",
    "\n",
    "hg19_chrLength.chr = hg19_chrLength.chr.astype(str)\n",
    "# remove chr from beginning of chromosome names\n",
    "hg19_chrLength.chr = hg19_chrLength.chr.str.lstrip('chr')\n",
    "# remove 'Un_' and '_random'\n",
    "hg19_chrLength.chr = hg19_chrLength.chr.str.lstrip('Un')\n",
    "hg19_chrLength.chr = hg19_chrLength.chr.str.rstrip('_random')\n",
    "# remove chromosome number from the beginning of non-regular chromosome names\n",
    "for name in hg19_chrLength.chr:\n",
    "    if '_gl' in name:\n",
    "        x = name.find('_')\n",
    "        hg19_chrLength.chr.loc[ hg19_chrLength.chr == name] = name[(x+1):] + '.1'\n",
    "# make all characters uppercase\n",
    "hg19_chrLength.chr = hg19_chrLength.chr.str.upper()\n",
    "# change M to MT\n",
    "hg19_chrLength.chr.loc[ hg19_chrLength.chr == 'M'] = 'MT'"
   ]
  },
  {
   "cell_type": "markdown",
   "metadata": {},
   "source": [
    "Get mean and standard deviation values for calculating p-values.\n",
    "\n",
    "Mean and standard deviation of mutation positions are obtained for each chromosome."
   ]
  },
  {
   "cell_type": "code",
   "execution_count": 5,
   "metadata": {
    "collapsed": true
   },
   "outputs": [],
   "source": [
    "chrSampleMean = []\n",
    "chrSampleStdv = []\n",
    "for name in chrList:\n",
    "    chrSampleMean.append( np.mean( df0.pos[ df0.chr==name]) )\n",
    "    chrSampleStdv.append(  np.std( df0.pos[ df0.chr==name]) )\n",
    "\n",
    "chrSampleMean = pd.Series( chrSampleMean, index=chrList)\n",
    "chrSampleStdv = pd.Series( chrSampleStdv, index=chrList)"
   ]
  },
  {
   "cell_type": "code",
   "execution_count": 6,
   "metadata": {
    "collapsed": true
   },
   "outputs": [],
   "source": [
    "chrSampleSize = []\n",
    "for name in chrList:\n",
    "    chrSampleSize.append( len( df0[ df0.chr==name]))\n",
    "\n",
    "chrSampleSize = pd.Series( chrSampleSize, index=chrList)"
   ]
  },
  {
   "cell_type": "code",
   "execution_count": 7,
   "metadata": {},
   "outputs": [
    {
     "name": "stdout",
     "output_type": "stream",
     "text": [
      "(76, 4)\n"
     ]
    }
   ],
   "source": [
    "df1 = pd.concat( [ chrSampleMean, chrSampleStdv, chrSampleSize], axis=1)\n",
    "df1.columns = [ 'dataM', 'dataS', 'dataSize']\n",
    "df1 = pd.merge( df1, hg19_chrLength.set_index('chr'), left_index=True, right_index=True)\n",
    "print df1.shape"
   ]
  },
  {
   "cell_type": "markdown",
   "metadata": {},
   "source": [
    "Calculate the null hypothesis mean and standard deviation.\n",
    "The null hypothesis is that the mutations are uniformly distributed across each chromosome."
   ]
  },
  {
   "cell_type": "code",
   "execution_count": 8,
   "metadata": {
    "collapsed": true
   },
   "outputs": [],
   "source": [
    "df1['nullM'] = df1.length / 2.0\n",
    "df1['nullS'] = df1.length / 3.464"
   ]
  },
  {
   "cell_type": "markdown",
   "metadata": {},
   "source": [
    "Import the necessary scipy function to calculate t tests and p-values."
   ]
  },
  {
   "cell_type": "code",
   "execution_count": 9,
   "metadata": {
    "collapsed": true
   },
   "outputs": [],
   "source": [
    "from scipy.stats import ttest_1samp"
   ]
  },
  {
   "cell_type": "code",
   "execution_count": 10,
   "metadata": {},
   "outputs": [
    {
     "name": "stderr",
     "output_type": "stream",
     "text": [
      "/home/julien/anaconda2/lib/python2.7/site-packages/numpy/core/fromnumeric.py:3126: RuntimeWarning: Degrees of freedom <= 0 for slice\n",
      "  **kwargs)\n",
      "/home/julien/anaconda2/lib/python2.7/site-packages/numpy/core/_methods.py:127: RuntimeWarning: invalid value encountered in double_scalars\n",
      "  ret = ret.dtype.type(ret / rcount)\n"
     ]
    }
   ],
   "source": [
    "ttest = pd.Series( [ 0.0 for name in chrList], index=chrList)\n",
    "pvals = pd.Series( [ 0.0 for name in chrList], index=chrList)\n",
    "\n",
    "for name in chrList:\n",
    "    ttest[name], pvals[name] = ttest_1samp( df0.pos[ df0.chr==name], df1.nullM[name])"
   ]
  },
  {
   "cell_type": "markdown",
   "metadata": {},
   "source": [
    "This outputs an error because chromosome GL000248.1 only has a single mutation and therefore the t-test fails because in this case the standard deviation is zero.\n",
    "\n",
    "Lets combine the results into one data table."
   ]
  },
  {
   "cell_type": "code",
   "execution_count": 11,
   "metadata": {},
   "outputs": [
    {
     "data": {
      "text/html": [
       "<div>\n",
       "<style>\n",
       "    .dataframe thead tr:only-child th {\n",
       "        text-align: right;\n",
       "    }\n",
       "\n",
       "    .dataframe thead th {\n",
       "        text-align: left;\n",
       "    }\n",
       "\n",
       "    .dataframe tbody tr th {\n",
       "        vertical-align: top;\n",
       "    }\n",
       "</style>\n",
       "<table border=\"1\" class=\"dataframe\">\n",
       "  <thead>\n",
       "    <tr style=\"text-align: right;\">\n",
       "      <th></th>\n",
       "      <th>dataM</th>\n",
       "      <th>dataS</th>\n",
       "      <th>dataSize</th>\n",
       "      <th>length</th>\n",
       "      <th>nullM</th>\n",
       "      <th>nullS</th>\n",
       "      <th>t</th>\n",
       "      <th>p</th>\n",
       "    </tr>\n",
       "  </thead>\n",
       "  <tbody>\n",
       "    <tr>\n",
       "      <th>1</th>\n",
       "      <td>1.245440e+08</td>\n",
       "      <td>7.637616e+07</td>\n",
       "      <td>73928</td>\n",
       "      <td>249250621</td>\n",
       "      <td>124625310.5</td>\n",
       "      <td>7.195457e+07</td>\n",
       "      <td>-0.289504</td>\n",
       "      <td>7.721966e-01</td>\n",
       "    </tr>\n",
       "    <tr>\n",
       "      <th>10</th>\n",
       "      <td>6.756364e+07</td>\n",
       "      <td>4.017361e+07</td>\n",
       "      <td>44639</td>\n",
       "      <td>135534747</td>\n",
       "      <td>67767373.5</td>\n",
       "      <td>3.912666e+07</td>\n",
       "      <td>-1.071463</td>\n",
       "      <td>2.839673e-01</td>\n",
       "    </tr>\n",
       "    <tr>\n",
       "      <th>11</th>\n",
       "      <td>6.751503e+07</td>\n",
       "      <td>3.913691e+07</td>\n",
       "      <td>44030</td>\n",
       "      <td>135006516</td>\n",
       "      <td>67503258.0</td>\n",
       "      <td>3.897417e+07</td>\n",
       "      <td>0.063092</td>\n",
       "      <td>9.496937e-01</td>\n",
       "    </tr>\n",
       "    <tr>\n",
       "      <th>12</th>\n",
       "      <td>6.864880e+07</td>\n",
       "      <td>3.943246e+07</td>\n",
       "      <td>42947</td>\n",
       "      <td>133851895</td>\n",
       "      <td>66925947.5</td>\n",
       "      <td>3.864085e+07</td>\n",
       "      <td>9.054329</td>\n",
       "      <td>1.430215e-19</td>\n",
       "    </tr>\n",
       "    <tr>\n",
       "      <th>13</th>\n",
       "      <td>6.800756e+07</td>\n",
       "      <td>2.688929e+07</td>\n",
       "      <td>35680</td>\n",
       "      <td>115169878</td>\n",
       "      <td>57584939.0</td>\n",
       "      <td>3.324766e+07</td>\n",
       "      <td>73.215664</td>\n",
       "      <td>0.000000e+00</td>\n",
       "    </tr>\n",
       "  </tbody>\n",
       "</table>\n",
       "</div>"
      ],
      "text/plain": [
       "           dataM         dataS  dataSize     length        nullM  \\\n",
       "1   1.245440e+08  7.637616e+07     73928  249250621  124625310.5   \n",
       "10  6.756364e+07  4.017361e+07     44639  135534747   67767373.5   \n",
       "11  6.751503e+07  3.913691e+07     44030  135006516   67503258.0   \n",
       "12  6.864880e+07  3.943246e+07     42947  133851895   66925947.5   \n",
       "13  6.800756e+07  2.688929e+07     35680  115169878   57584939.0   \n",
       "\n",
       "           nullS          t             p  \n",
       "1   7.195457e+07  -0.289504  7.721966e-01  \n",
       "10  3.912666e+07  -1.071463  2.839673e-01  \n",
       "11  3.897417e+07   0.063092  9.496937e-01  \n",
       "12  3.864085e+07   9.054329  1.430215e-19  \n",
       "13  3.324766e+07  73.215664  0.000000e+00  "
      ]
     },
     "execution_count": 11,
     "metadata": {},
     "output_type": "execute_result"
    }
   ],
   "source": [
    "df1 = pd.concat( [ df1, ttest, pvals], axis=1)\n",
    "df1.columns = [ 'dataM', 'dataS', 'dataSize', 'length', 'nullM', 'nullS', 't', 'p']\n",
    "df1.head()"
   ]
  },
  {
   "cell_type": "markdown",
   "metadata": {},
   "source": [
    "Let's take a look at the chromosomes with the smallest p-values."
   ]
  },
  {
   "cell_type": "code",
   "execution_count": 12,
   "metadata": {},
   "outputs": [
    {
     "data": {
      "text/plain": [
       "5             4.592902e-71\n",
       "9             5.338077e-26\n",
       "20            1.334393e-24\n",
       "12            1.430215e-19\n",
       "18            2.883281e-19\n",
       "X             3.268436e-18\n",
       "3             3.862463e-12\n",
       "GL000237.1    4.589091e-10\n",
       "GL000220.1    2.896094e-08\n",
       "2             4.759265e-08\n",
       "Name: p, dtype: float64"
      ]
     },
     "execution_count": 12,
     "metadata": {},
     "output_type": "execute_result"
    }
   ],
   "source": [
    "n=10\n",
    "df1.p.sort_values()[6:(6+n)]"
   ]
  },
  {
   "cell_type": "markdown",
   "metadata": {},
   "source": [
    "There are a couple of irregular chromosomes with small p-values. We will remove these and focus our analysis solely on regular chromosomes."
   ]
  },
  {
   "cell_type": "code",
   "execution_count": 13,
   "metadata": {},
   "outputs": [],
   "source": [
    "chrRegList = []\n",
    "for i in range(22):\n",
    "    chrRegList.append( str(i+1))\n",
    "chrRegList.append('X')\n",
    "chrRegList.append('Y')"
   ]
  },
  {
   "cell_type": "code",
   "execution_count": 14,
   "metadata": {},
   "outputs": [
    {
     "data": {
      "image/png": "[encoded data removed]",
      "text/plain": [
       "<matplotlib.figure.Figure at 0x7f1c12fabc90>"
      ]
     },
     "metadata": {},
     "output_type": "display_data"
    }
   ],
   "source": [
    "y = df1.loc[ chrRegList].p\n",
    "xlab = [ u for u in y.index]\n",
    "\n",
    "plt.figure( figsize=(14,3))\n",
    "plt.axhline( y=0.001, color='orangered', linewidth=2, alpha=0.5)\n",
    "y.plot( kind='bar')\n",
    "\n",
    "fs = 16;\n",
    "plt.title('Mutation Distribution p-values', fontsize=fs)\n",
    "plt.xticks( range(len(y)), xlab, rotation=90, fontsize=fs-3);\n",
    "plt.yticks( fontsize=fs-3)\n",
    "plt.ylim([10**-40,10**0]);\n",
    "plt.yscale('log')\n",
    "# plt.savefig('p_value_1.png', dpi=100)"
   ]
  },
  {
   "cell_type": "markdown",
   "metadata": {},
   "source": [
    "Chromosomes with large p-values (bars higher than the orange line) are likely to have their muations uniformly distributed across the entire chromosome. Chromosomes with small p-values are likely to have mutations distributed non-uniformly.\n",
    "\n",
    "Regions of highly concentrated mutations within a chromosome may be an indicator of cancer-driven mutations."
   ]
  },
  {
   "cell_type": "markdown",
   "metadata": {},
   "source": [
    "## Visualizing  Mutation Distributions"
   ]
  },
  {
   "cell_type": "code",
   "execution_count": 15,
   "metadata": {},
   "outputs": [],
   "source": [
    "dfNorm = pd.merge( df0, hg19_chrLength, on='chr')\n",
    "dfNorm['relPos'] = (dfNorm.pos / dfNorm.length)"
   ]
  },
  {
   "cell_type": "code",
   "execution_count": 16,
   "metadata": {
    "collapsed": true
   },
   "outputs": [],
   "source": [
    "hist = [ [] for name in chrList]\n",
    "bin_edge = [ [] for name in chrList]\n",
    "\n",
    "for i, name in enumerate( chrList):\n",
    "    hist[i], bin_edge[i] = np.histogram( dfNorm.relPos[ dfNorm.chr==name], bins=10, range=( 0., 1.), density=True)"
   ]
  },
  {
   "cell_type": "code",
   "execution_count": 17,
   "metadata": {
    "collapsed": true
   },
   "outputs": [],
   "source": [
    "# List of the chromosomes with the smallest and largest non-zeros p-values.\n",
    "pMin = [ '5', '9', '20']\n",
    "pMax = [ '11', '7', '1']"
   ]
  },
  {
   "cell_type": "code",
   "execution_count": 20,
   "metadata": {},
   "outputs": [
    {
     "data": {
      "image/png": "[encoded data removed]",
      "text/plain": [
       "<matplotlib.figure.Figure at 0x7f1c0e608110>"
      ]
     },
     "metadata": {},
     "output_type": "display_data"
    }
   ],
   "source": [
    "fs = 15\n",
    "\n",
    "plt.figure( figsize=(15,4))\n",
    "plt.subplots_adjust( hspace=0.2, wspace=0.3)\n",
    "\n",
    "for i, name in enumerate( pMin):\n",
    "    plt.subplot( 1, 3, i+1)\n",
    "    iSubFig = chrList.tolist().index(name)\n",
    "    plt.bar(bin_edge[iSubFig][:-1], hist[iSubFig], width=0.1, align='edge')\n",
    "    plt.axhline( y=1.0, color='red', linewidth=2.0)\n",
    "    plt.xlim([0,1]);\n",
    "    plt.xticks( fontsize=fs-3);\n",
    "    plt.yticks( fontsize=fs-3);\n",
    "    plt.xlabel('Norm. Chr. Pos.', fontsize=fs)\n",
    "    ts = 'Chr '+chrList[iSubFig]\n",
    "    plt.title( ts, fontsize=fs)\n",
    "    if i == 0:\n",
    "        plt.ylabel('Probability Density', fontsize=fs)\n",
    "\n",
    "# plt.savefig('p_value_min.png', dpi=100)"
   ]
  },
  {
   "cell_type": "code",
   "execution_count": 21,
   "metadata": {},
   "outputs": [
    {
     "data": {
      "image/png": "[encoded data removed]",
      "text/plain": [
       "<matplotlib.figure.Figure at 0x7f1c0e7ee610>"
      ]
     },
     "metadata": {},
     "output_type": "display_data"
    }
   ],
   "source": [
    "fs = 15\n",
    "\n",
    "plt.figure( figsize=(15,4))\n",
    "plt.subplots_adjust( hspace=0.2, wspace=0.3)\n",
    "\n",
    "for i, name in enumerate( pMax):\n",
    "    plt.subplot( 1, 3, i+1)\n",
    "    iSubFig = chrList.tolist().index(name)\n",
    "    plt.bar(bin_edge[iSubFig][:-1], hist[iSubFig], width=0.1, align='edge')\n",
    "    plt.axhline( y=1.0, color='red', linewidth=2.0)\n",
    "    plt.xlim([0,1]);\n",
    "    plt.xticks( fontsize=fs-3);\n",
    "    plt.yticks( fontsize=fs-3);\n",
    "    plt.xlabel('Norm. Chr. Pos.', fontsize=fs)\n",
    "    ts = 'Chr '+chrList[iSubFig]\n",
    "    plt.title( ts, fontsize=fs)\n",
    "    if i == 0:\n",
    "        plt.ylabel('Probability Density', fontsize=fs)\n",
    "\n",
    "# plt.savefig('p_value_max.png', dpi=100)"
   ]
  },
  {
   "cell_type": "code",
   "execution_count": null,
   "metadata": {
    "collapsed": true
   },
   "outputs": [],
   "source": []
  }
 ],
 "metadata": {
  "kernelspec": {
   "display_name": "Python 2",
   "language": "python",
   "name": "python2"
  },
  "language_info": {
   "codemirror_mode": {
    "name": "ipython",
    "version": 2
   },
   "file_extension": ".py",
   "mimetype": "text/x-python",
   "name": "python",
   "nbconvert_exporter": "python",
   "pygments_lexer": "ipython2",
   "version": "2.7.13"
  }
 },
 "nbformat": 4,
 "nbformat_minor": 2
}
