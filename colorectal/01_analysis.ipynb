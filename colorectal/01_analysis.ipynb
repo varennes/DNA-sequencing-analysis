{
 "cells": [
  {
   "cell_type": "code",
   "execution_count": 1,
   "metadata": {
    "collapsed": true
   },
   "outputs": [],
   "source": [
    "import pandas as pd\n",
    "import numpy as np\n",
    "import seaborn as sns\n",
    "import matplotlib.pyplot as plt\n",
    "\n",
    "% matplotlib inline"
   ]
  },
  {
   "cell_type": "markdown",
   "metadata": {},
   "source": [
    "First import the data and take a look at what's inside."
   ]
  },
  {
   "cell_type": "code",
   "execution_count": 2,
   "metadata": {},
   "outputs": [
    {
     "data": {
      "text/html": [
       "<div>\n",
       "<style>\n",
       "    .dataframe thead tr:only-child th {\n",
       "        text-align: right;\n",
       "    }\n",
       "\n",
       "    .dataframe thead th {\n",
       "        text-align: left;\n",
       "    }\n",
       "\n",
       "    .dataframe tbody tr th {\n",
       "        vertical-align: top;\n",
       "    }\n",
       "</style>\n",
       "<table border=\"1\" class=\"dataframe\">\n",
       "  <thead>\n",
       "    <tr style=\"text-align: right;\">\n",
       "      <th></th>\n",
       "      <th>chr</th>\n",
       "      <th>pos</th>\n",
       "      <th>ref</th>\n",
       "      <th>alt</th>\n",
       "      <th>ID</th>\n",
       "    </tr>\n",
       "  </thead>\n",
       "  <tbody>\n",
       "    <tr>\n",
       "      <th>0</th>\n",
       "      <td>1</td>\n",
       "      <td>56638</td>\n",
       "      <td>C</td>\n",
       "      <td>T</td>\n",
       "      <td>TCGA-AA-3516-01A-02D-1554-10</td>\n",
       "    </tr>\n",
       "    <tr>\n",
       "      <th>1</th>\n",
       "      <td>1</td>\n",
       "      <td>56981</td>\n",
       "      <td>C</td>\n",
       "      <td>A</td>\n",
       "      <td>TCGA-AA-3516-01A-02D-1554-10</td>\n",
       "    </tr>\n",
       "    <tr>\n",
       "      <th>2</th>\n",
       "      <td>1</td>\n",
       "      <td>57033</td>\n",
       "      <td>T</td>\n",
       "      <td>C</td>\n",
       "      <td>TCGA-AA-3516-01A-02D-1554-10</td>\n",
       "    </tr>\n",
       "    <tr>\n",
       "      <th>3</th>\n",
       "      <td>1</td>\n",
       "      <td>57246</td>\n",
       "      <td>C</td>\n",
       "      <td>G</td>\n",
       "      <td>TCGA-AA-3516-01A-02D-1554-10</td>\n",
       "    </tr>\n",
       "    <tr>\n",
       "      <th>4</th>\n",
       "      <td>1</td>\n",
       "      <td>57376</td>\n",
       "      <td>C</td>\n",
       "      <td>T</td>\n",
       "      <td>TCGA-AA-3516-01A-02D-1554-10</td>\n",
       "    </tr>\n",
       "  </tbody>\n",
       "</table>\n",
       "</div>"
      ],
      "text/plain": [
       "  chr    pos ref alt                            ID\n",
       "0   1  56638   C   T  TCGA-AA-3516-01A-02D-1554-10\n",
       "1   1  56981   C   A  TCGA-AA-3516-01A-02D-1554-10\n",
       "2   1  57033   T   C  TCGA-AA-3516-01A-02D-1554-10\n",
       "3   1  57246   C   G  TCGA-AA-3516-01A-02D-1554-10\n",
       "4   1  57376   C   T  TCGA-AA-3516-01A-02D-1554-10"
      ]
     },
     "execution_count": 2,
     "metadata": {},
     "output_type": "execute_result"
    }
   ],
   "source": [
    "df0 = pd.read_table( 'data_colorectal.txt', header=None, names=[ 'chr', 'pos', 'ref', 'alt', 'ID'], low_memory=False)\n",
    "df0.head()"
   ]
  },
  {
   "cell_type": "code",
   "execution_count": 3,
   "metadata": {},
   "outputs": [
    {
     "name": "stdout",
     "output_type": "stream",
     "text": [
      "The data set has 973953 rows and 5 columns.\n"
     ]
    }
   ],
   "source": [
    "print 'The data set has %s rows and %s columns.' %(df0.shape)"
   ]
  },
  {
   "cell_type": "code",
   "execution_count": 4,
   "metadata": {},
   "outputs": [
    {
     "name": "stdout",
     "output_type": "stream",
     "text": [
      "# of unique chr values: 76\n",
      "# of unique pos values: 949113\n",
      "# of unique ref values: 2358\n",
      "# of unique alt values: 2183\n",
      "# of unique  ID values: 5\n"
     ]
    }
   ],
   "source": [
    "print '# of unique chr values: %s' % len(df0.chr.unique())\n",
    "print '# of unique pos values: %s' % len(df0.pos.unique())\n",
    "print '# of unique ref values: %s' % len(df0.ref.unique())\n",
    "print '# of unique alt values: %s' % len(df0.alt.unique())\n",
    "print '# of unique  ID values: %s' % len(df0.ID.unique())"
   ]
  },
  {
   "cell_type": "markdown",
   "metadata": {},
   "source": [
    "Each entry in the data set is of a somatic mutation found in a patient's tumor sample.\n",
    "\n",
    "- The `ID` indicates which patient sample the mutation was originally found in.\n",
    "- The `chr` value indicates in which chromosome the mutation is located.\n",
    "- The `pos` value indicates the position along the chromosome.\n",
    "- The `ref` value is the reference allele from which the somtatic mutation occurs.\n",
    "- The `alt` value is the alternative allele value which the mutation takes on.\n",
    "\n",
    "Below are the 5 different sample `ID`s from the 5 different patients.\n"
   ]
  },
  {
   "cell_type": "code",
   "execution_count": 5,
   "metadata": {},
   "outputs": [
    {
     "data": {
      "text/plain": [
       "TCGA-AD-6964-01A-11D-1924-10    219960\n",
       "TCGA-AA-3516-01A-02D-1554-10    211212\n",
       "TCGA-AZ-6601-01A-11D-1771-10    203557\n",
       "TCGA-AD-A5EJ-01A-11D-A28G-10    172291\n",
       "TCGA-AA-A01R-01A-21D-A17O-10    166933\n",
       "Name: ID, dtype: int64"
      ]
     },
     "execution_count": 5,
     "metadata": {},
     "output_type": "execute_result"
    }
   ],
   "source": [
    "df0.ID.value_counts()"
   ]
  },
  {
   "cell_type": "code",
   "execution_count": 6,
   "metadata": {},
   "outputs": [
    {
     "name": "stdout",
     "output_type": "stream",
     "text": [
      "10 most frequent reference allele values:\n"
     ]
    },
    {
     "data": {
      "text/plain": [
       "C         273807\n",
       "G         273319\n",
       "T         213769\n",
       "A         210534\n",
       "AA            13\n",
       "TT            12\n",
       "GA             8\n",
       "GG             8\n",
       "CC             7\n",
       "AAAAAA         6\n",
       "Name: ref, dtype: int64"
      ]
     },
     "execution_count": 6,
     "metadata": {},
     "output_type": "execute_result"
    }
   ],
   "source": [
    "print '10 most frequent reference allele values:'\n",
    "df0.ref.value_counts()[:10]"
   ]
  },
  {
   "cell_type": "code",
   "execution_count": 7,
   "metadata": {},
   "outputs": [
    {
     "name": "stdout",
     "output_type": "stream",
     "text": [
      "10 most frequent alternative allele values:\n"
     ]
    },
    {
     "data": {
      "text/plain": [
       "T     302239\n",
       "A     302078\n",
       "C     183633\n",
       "G     183553\n",
       "-         16\n",
       "TT        10\n",
       "GG         8\n",
       "TA         7\n",
       "GA         6\n",
       "CC         6\n",
       "Name: alt, dtype: int64"
      ]
     },
     "execution_count": 7,
     "metadata": {},
     "output_type": "execute_result"
    }
   ],
   "source": [
    "print '10 most frequent alternative allele values:'\n",
    "df0.alt.value_counts()[:10]"
   ]
  },
  {
   "cell_type": "markdown",
   "metadata": {},
   "source": [
    "As expected, the most common allele values are the nucleotides `A`, `C`, `T` and `G`."
   ]
  },
  {
   "cell_type": "markdown",
   "metadata": {},
   "source": [
    "# Chromosome Mutation Properties\n",
    "\n",
    "First I examine how the amount of somtaic mutations compares across chromosomes.\n",
    "\n",
    "There are a total of 76 different chromosomes in the data. The chromosomes comprise of the 24 regular chromosomes (1-22, X, Y), mitochondial DNA (MT) and the many irregular chromosomes (GL000******)."
   ]
  },
  {
   "cell_type": "code",
   "execution_count": 9,
   "metadata": {},
   "outputs": [
    {
     "name": "stdout",
     "output_type": "stream",
     "text": [
      "Number of unique chromosones = 76\n"
     ]
    },
    {
     "data": {
      "text/plain": [
       "array(['1', '10', '11', '12', '13', '14', '15', '16', '17', '18', '19',\n",
       "       '2', '20', '21', '22', '3', '4', '5', '6', '7', '8', '9',\n",
       "       'GL000191.1', 'GL000192.1', 'GL000193.1', 'GL000194.1',\n",
       "       'GL000195.1', 'GL000198.1', 'GL000199.1', 'GL000202.1',\n",
       "       'GL000203.1', 'GL000204.1', 'GL000205.1', 'GL000206.1',\n",
       "       'GL000207.1', 'GL000208.1', 'GL000209.1', 'GL000210.1',\n",
       "       'GL000211.1', 'GL000212.1', 'GL000213.1', 'GL000214.1',\n",
       "       'GL000215.1', 'GL000216.1', 'GL000217.1', 'GL000218.1',\n",
       "       'GL000219.1', 'GL000220.1', 'GL000221.1', 'GL000222.1',\n",
       "       'GL000224.1', 'GL000225.1', 'GL000226.1', 'GL000227.1',\n",
       "       'GL000228.1', 'GL000229.1', 'GL000230.1', 'GL000231.1',\n",
       "       'GL000232.1', 'GL000233.1', 'GL000234.1', 'GL000235.1',\n",
       "       'GL000237.1', 'GL000239.1', 'GL000240.1', 'GL000241.1',\n",
       "       'GL000242.1', 'GL000243.1', 'GL000244.1', 'GL000245.1',\n",
       "       'GL000246.1', 'GL000247.1', 'GL000248.1', 'MT', 'X', 'Y'], dtype=object)"
      ]
     },
     "execution_count": 9,
     "metadata": {},
     "output_type": "execute_result"
    }
   ],
   "source": [
    "chrList = np.sort(df0.chr.unique())\n",
    "print 'Number of unique chromosones = %s' % len(chrList)\n",
    "chrList"
   ]
  },
  {
   "cell_type": "code",
   "execution_count": 10,
   "metadata": {},
   "outputs": [],
   "source": [
    "chrMutTotal = []\n",
    "for name in chrList:\n",
    "    chrMutTotal.append( float( len(df0[ df0.chr == name])))"
   ]
  },
  {
   "cell_type": "markdown",
   "metadata": {},
   "source": [
    "Let's take a look at the total number of somatic mutations in each chromosome."
   ]
  },
  {
   "cell_type": "code",
   "execution_count": 12,
   "metadata": {},
   "outputs": [
    {
     "data": {
      "image/png": "[encoded data removed]",
      "text/plain": [
       "<matplotlib.figure.Figure at 0x7fedf2f20290>"
      ]
     },
     "metadata": {},
     "output_type": "display_data"
    }
   ],
   "source": [
    "tot = pd.Series( chrMutTotal, index=chrList)\n",
    "\n",
    "plt.figure( figsize=(15,4))\n",
    "tot.sort_values().plot( kind='bar')\n",
    "\n",
    "fs = 16\n",
    "xt = range( len(tot))\n",
    "xl = [ u for u in tot.sort_values().index]\n",
    "plt.title('Mutation Counts for each Chromosome', fontsize=fs)\n",
    "plt.ylabel('Total Mutations', fontsize=fs)\n",
    "plt.xticks( xt, xl, rotation=90, fontsize=fs-3)\n",
    "plt.yscale('log')\n",
    "plt.yticks( fontsize=fs-3)\n",
    "# plt.savefig('mutations_total_1.png', dpi=100)"
   ]
  },
  {
   "cell_type": "markdown",
   "metadata": {},
   "source": [
    "Next, I am interested in investigating the mutation density across chromosomes. Chromosomes vary in size, so the mutation density allows us to better understand where there are significantly high concentrations of mutations. High mutation densities may be an indicator that the colorectal cancer is driving a lot of mutations at this part of the DNA.\n",
    "\n",
    "In order to calculate mutation density we need to know the length of each chromosome. The mutation locations are relative to human reference hg19, and so I will get the chromosome lengths from the hg19 data off of the [UCSC genome browser](http://hgdownload.cse.ucsc.edu/goldenPath/hg19/bigZips/hg19.chrom.sizes) to calculate the densities."
   ]
  },
  {
   "cell_type": "code",
   "execution_count": 14,
   "metadata": {},
   "outputs": [
    {
     "name": "stdout",
     "output_type": "stream",
     "text": [
      "Chromosome length data set has 93 rows and 2 columns.\n"
     ]
    },
    {
     "data": {
      "text/html": [
       "<div>\n",
       "<style>\n",
       "    .dataframe thead tr:only-child th {\n",
       "        text-align: right;\n",
       "    }\n",
       "\n",
       "    .dataframe thead th {\n",
       "        text-align: left;\n",
       "    }\n",
       "\n",
       "    .dataframe tbody tr th {\n",
       "        vertical-align: top;\n",
       "    }\n",
       "</style>\n",
       "<table border=\"1\" class=\"dataframe\">\n",
       "  <thead>\n",
       "    <tr style=\"text-align: right;\">\n",
       "      <th></th>\n",
       "      <th>chr</th>\n",
       "      <th>length</th>\n",
       "    </tr>\n",
       "  </thead>\n",
       "  <tbody>\n",
       "    <tr>\n",
       "      <th>0</th>\n",
       "      <td>chr1</td>\n",
       "      <td>249250621</td>\n",
       "    </tr>\n",
       "    <tr>\n",
       "      <th>1</th>\n",
       "      <td>chr2</td>\n",
       "      <td>243199373</td>\n",
       "    </tr>\n",
       "    <tr>\n",
       "      <th>2</th>\n",
       "      <td>chr3</td>\n",
       "      <td>198022430</td>\n",
       "    </tr>\n",
       "    <tr>\n",
       "      <th>3</th>\n",
       "      <td>chr4</td>\n",
       "      <td>191154276</td>\n",
       "    </tr>\n",
       "    <tr>\n",
       "      <th>4</th>\n",
       "      <td>chr5</td>\n",
       "      <td>180915260</td>\n",
       "    </tr>\n",
       "  </tbody>\n",
       "</table>\n",
       "</div>"
      ],
      "text/plain": [
       "    chr     length\n",
       "0  chr1  249250621\n",
       "1  chr2  243199373\n",
       "2  chr3  198022430\n",
       "3  chr4  191154276\n",
       "4  chr5  180915260"
      ]
     },
     "execution_count": 14,
     "metadata": {},
     "output_type": "execute_result"
    }
   ],
   "source": [
    "hg19_chrLength = pd.read_table( 'hg19_chr_sizes.txt', header=None, names=[ 'chr', 'length'], low_memory=False)\n",
    "print 'Chromosome length data set has %s rows and %s columns.' %(hg19_chrLength.shape)\n",
    "hg19_chrLength.head()"
   ]
  },
  {
   "cell_type": "code",
   "execution_count": 16,
   "metadata": {},
   "outputs": [],
   "source": [
    "hg19_chrLength.chr = hg19_chrLength.chr.astype(str)\n",
    "# remove chr from beginning of chromosome names\n",
    "hg19_chrLength.chr = hg19_chrLength.chr.str.lstrip('chr')\n",
    "# remove 'Un_' and '_random'\n",
    "hg19_chrLength.chr = hg19_chrLength.chr.str.lstrip('Un')\n",
    "hg19_chrLength.chr = hg19_chrLength.chr.str.rstrip('_random')\n",
    "# remove chromosome number from the beginning of non-regular chromosome names\n",
    "for name in hg19_chrLength.chr:\n",
    "    if '_gl' in name:\n",
    "        x = name.find('_')\n",
    "        hg19_chrLength.chr.loc[ hg19_chrLength.chr == name] = name[(x+1):] + '.1'\n",
    "# make all characters uppercase\n",
    "hg19_chrLength.chr = hg19_chrLength.chr.str.upper()\n",
    "# change M to MT\n",
    "hg19_chrLength.chr.loc[ hg19_chrLength.chr == 'M'] = 'MT'"
   ]
  },
  {
   "cell_type": "code",
   "execution_count": 19,
   "metadata": {},
   "outputs": [
    {
     "data": {
      "image/png": "[encoded data removed]",
      "text/plain": [
       "<matplotlib.figure.Figure at 0x7fedf2f1d290>"
      ]
     },
     "metadata": {},
     "output_type": "display_data"
    }
   ],
   "source": [
    "fs = 16\n",
    "plt.figure( figsize=(18,4))\n",
    "plt.title('Size of each Chromosome in Human Reference hg19', fontsize=fs)\n",
    "hg19_chrLength.length.plot( kind='bar')\n",
    "plt.xticks( range(len(hg19_chrLength)), hg19_chrLength.chr, fontsize=fs-3);\n",
    "plt.yscale('log');\n",
    "plt.yticks( fontsize=fs-3);"
   ]
  },
  {
   "cell_type": "code",
   "execution_count": 23,
   "metadata": {
    "collapsed": true
   },
   "outputs": [],
   "source": [
    "chrMutDensity = []\n",
    "for i, name in enumerate(chrList):\n",
    "    chrMutDensity.append( chrMutTotal[i] / float( hg19_chrLength.length[ hg19_chrLength.chr == name]) )"
   ]
  },
  {
   "cell_type": "code",
   "execution_count": 24,
   "metadata": {},
   "outputs": [
    {
     "data": {
      "image/png": "[encoded data removed]",
      "text/plain": [
       "<matplotlib.figure.Figure at 0x7fedf2021290>"
      ]
     },
     "metadata": {},
     "output_type": "display_data"
    }
   ],
   "source": [
    "den = pd.Series( chrMutDensity, index=chrList)\n",
    "\n",
    "plt.figure( figsize=(15,4))\n",
    "plt.title('Mutation Density for each Chromosome')\n",
    "den.sort_values().plot( kind='bar')\n",
    "\n",
    "fs = 16\n",
    "xt = range( len(tot))\n",
    "xl = [ u for u in den.sort_values().index]\n",
    "plt.title('Mutation Density for each Chromosome', fontsize=fs)\n",
    "plt.ylabel('Mutations per base pair', fontsize=fs)\n",
    "plt.yscale('log')\n",
    "plt.xticks( xt, xl, rotation=90, fontsize=fs-3)\n",
    "plt.yticks( fontsize=fs-3)\n",
    "plt.yscale('log')\n",
    "# plt.savefig('mutations_density_1.png', dpi=100)"
   ]
  },
  {
   "cell_type": "code",
   "execution_count": null,
   "metadata": {
    "collapsed": true
   },
   "outputs": [],
   "source": []
  }
 ],
 "metadata": {
  "kernelspec": {
   "display_name": "Python 2",
   "language": "python",
   "name": "python2"
  },
  "language_info": {
   "codemirror_mode": {
    "name": "ipython",
    "version": 2
   },
   "file_extension": ".py",
   "mimetype": "text/x-python",
   "name": "python",
   "nbconvert_exporter": "python",
   "pygments_lexer": "ipython2",
   "version": "2.7.13"
  }
 },
 "nbformat": 4,
 "nbformat_minor": 2
}
