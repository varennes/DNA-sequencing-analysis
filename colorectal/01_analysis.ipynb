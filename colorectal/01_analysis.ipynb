{
 "cells": [
  {
   "cell_type": "code",
   "execution_count": 1,
   "metadata": {
    "collapsed": true
   },
   "outputs": [],
   "source": [
    "import pandas as pd\n",
    "import numpy as np\n",
    "import seaborn as sns\n",
    "import matplotlib.pyplot as plt\n",
    "\n",
    "% matplotlib inline"
   ]
  },
  {
   "cell_type": "markdown",
   "metadata": {},
   "source": [
    "First import the data and take a look at what's inside."
   ]
  },
  {
   "cell_type": "code",
   "execution_count": 2,
   "metadata": {},
   "outputs": [
    {
     "data": {
      "text/html": [
       "<div>\n",
       "<style>\n",
       "    .dataframe thead tr:only-child th {\n",
       "        text-align: right;\n",
       "    }\n",
       "\n",
       "    .dataframe thead th {\n",
       "        text-align: left;\n",
       "    }\n",
       "\n",
       "    .dataframe tbody tr th {\n",
       "        vertical-align: top;\n",
       "    }\n",
       "</style>\n",
       "<table border=\"1\" class=\"dataframe\">\n",
       "  <thead>\n",
       "    <tr style=\"text-align: right;\">\n",
       "      <th></th>\n",
       "      <th>chr</th>\n",
       "      <th>pos</th>\n",
       "      <th>ref</th>\n",
       "      <th>alt</th>\n",
       "      <th>ID</th>\n",
       "    </tr>\n",
       "  </thead>\n",
       "  <tbody>\n",
       "    <tr>\n",
       "      <th>0</th>\n",
       "      <td>1</td>\n",
       "      <td>56638</td>\n",
       "      <td>C</td>\n",
       "      <td>T</td>\n",
       "      <td>TCGA-AA-3516-01A-02D-1554-10</td>\n",
       "    </tr>\n",
       "    <tr>\n",
       "      <th>1</th>\n",
       "      <td>1</td>\n",
       "      <td>56981</td>\n",
       "      <td>C</td>\n",
       "      <td>A</td>\n",
       "      <td>TCGA-AA-3516-01A-02D-1554-10</td>\n",
       "    </tr>\n",
       "    <tr>\n",
       "      <th>2</th>\n",
       "      <td>1</td>\n",
       "      <td>57033</td>\n",
       "      <td>T</td>\n",
       "      <td>C</td>\n",
       "      <td>TCGA-AA-3516-01A-02D-1554-10</td>\n",
       "    </tr>\n",
       "    <tr>\n",
       "      <th>3</th>\n",
       "      <td>1</td>\n",
       "      <td>57246</td>\n",
       "      <td>C</td>\n",
       "      <td>G</td>\n",
       "      <td>TCGA-AA-3516-01A-02D-1554-10</td>\n",
       "    </tr>\n",
       "    <tr>\n",
       "      <th>4</th>\n",
       "      <td>1</td>\n",
       "      <td>57376</td>\n",
       "      <td>C</td>\n",
       "      <td>T</td>\n",
       "      <td>TCGA-AA-3516-01A-02D-1554-10</td>\n",
       "    </tr>\n",
       "  </tbody>\n",
       "</table>\n",
       "</div>"
      ],
      "text/plain": [
       "  chr    pos ref alt                            ID\n",
       "0   1  56638   C   T  TCGA-AA-3516-01A-02D-1554-10\n",
       "1   1  56981   C   A  TCGA-AA-3516-01A-02D-1554-10\n",
       "2   1  57033   T   C  TCGA-AA-3516-01A-02D-1554-10\n",
       "3   1  57246   C   G  TCGA-AA-3516-01A-02D-1554-10\n",
       "4   1  57376   C   T  TCGA-AA-3516-01A-02D-1554-10"
      ]
     },
     "execution_count": 2,
     "metadata": {},
     "output_type": "execute_result"
    }
   ],
   "source": [
    "df0 = pd.read_table( 'data_colorectal.txt', header=None, names=[ 'chr', 'pos', 'ref', 'alt', 'ID'], low_memory=False)\n",
    "df0.head()"
   ]
  },
  {
   "cell_type": "code",
   "execution_count": 3,
   "metadata": {},
   "outputs": [
    {
     "name": "stdout",
     "output_type": "stream",
     "text": [
      "The data set has 973953 rows and 5 columns.\n"
     ]
    }
   ],
   "source": [
    "print 'The data set has %s rows and %s columns.' %(df0.shape)"
   ]
  },
  {
   "cell_type": "code",
   "execution_count": 4,
   "metadata": {},
   "outputs": [
    {
     "name": "stdout",
     "output_type": "stream",
     "text": [
      "# of unique chr values: 76\n",
      "# of unique pos values: 949113\n",
      "# of unique ref values: 2358\n",
      "# of unique alt values: 2183\n",
      "# of unique  ID values: 5\n"
     ]
    }
   ],
   "source": [
    "print '# of unique chr values: %s' % len(df0.chr.unique())\n",
    "print '# of unique pos values: %s' % len(df0.pos.unique())\n",
    "print '# of unique ref values: %s' % len(df0.ref.unique())\n",
    "print '# of unique alt values: %s' % len(df0.alt.unique())\n",
    "print '# of unique  ID values: %s' % len(df0.ID.unique())"
   ]
  },
  {
   "cell_type": "markdown",
   "metadata": {},
   "source": [
    "Each entry in the data set is of a somatic mutation found in a patient's tumor sample.\n",
    "\n",
    "- The `ID` indicates which patient sample the mutation was originally found in.\n",
    "- The `chr` value indicates in which chromosome the mutation is located.\n",
    "- The `pos` value indicates the position along the chromosome.\n",
    "- The `ref` value is the reference allele from which the somtatic mutation occurs.\n",
    "- The `alt` value is the alternative allele value which the mutation takes on.\n",
    "\n",
    "Below are the 5 different sample `ID`s from the 5 different patients.\n"
   ]
  },
  {
   "cell_type": "code",
   "execution_count": 5,
   "metadata": {},
   "outputs": [
    {
     "data": {
      "text/plain": [
       "TCGA-AD-6964-01A-11D-1924-10    219960\n",
       "TCGA-AA-3516-01A-02D-1554-10    211212\n",
       "TCGA-AZ-6601-01A-11D-1771-10    203557\n",
       "TCGA-AD-A5EJ-01A-11D-A28G-10    172291\n",
       "TCGA-AA-A01R-01A-21D-A17O-10    166933\n",
       "Name: ID, dtype: int64"
      ]
     },
     "execution_count": 5,
     "metadata": {},
     "output_type": "execute_result"
    }
   ],
   "source": [
    "df0.ID.value_counts()"
   ]
  },
  {
   "cell_type": "code",
   "execution_count": 6,
   "metadata": {},
   "outputs": [
    {
     "name": "stdout",
     "output_type": "stream",
     "text": [
      "10 most frequent reference allele values:\n"
     ]
    },
    {
     "data": {
      "text/plain": [
       "C         273807\n",
       "G         273319\n",
       "T         213769\n",
       "A         210534\n",
       "AA            13\n",
       "TT            12\n",
       "GA             8\n",
       "GG             8\n",
       "CC             7\n",
       "AAAAAA         6\n",
       "Name: ref, dtype: int64"
      ]
     },
     "execution_count": 6,
     "metadata": {},
     "output_type": "execute_result"
    }
   ],
   "source": [
    "print '10 most frequent reference allele values:'\n",
    "df0.ref.value_counts()[:10]"
   ]
  },
  {
   "cell_type": "code",
   "execution_count": 7,
   "metadata": {},
   "outputs": [
    {
     "name": "stdout",
     "output_type": "stream",
     "text": [
      "10 most frequent alternative allele values:\n"
     ]
    },
    {
     "data": {
      "text/plain": [
       "T     302239\n",
       "A     302078\n",
       "C     183633\n",
       "G     183553\n",
       "-         16\n",
       "TT        10\n",
       "GG         8\n",
       "TA         7\n",
       "GA         6\n",
       "CC         6\n",
       "Name: alt, dtype: int64"
      ]
     },
     "execution_count": 7,
     "metadata": {},
     "output_type": "execute_result"
    }
   ],
   "source": [
    "print '10 most frequent alternative allele values:'\n",
    "df0.alt.value_counts()[:10]"
   ]
  },
  {
   "cell_type": "markdown",
   "metadata": {},
   "source": [
    "As expected, the most common allele values are the nucleotides `A`, `C`, `T` and `G`."
   ]
  }
 ],
 "metadata": {
  "kernelspec": {
   "display_name": "Python 2",
   "language": "python",
   "name": "python2"
  },
  "language_info": {
   "codemirror_mode": {
    "name": "ipython",
    "version": 2
   },
   "file_extension": ".py",
   "mimetype": "text/x-python",
   "name": "python",
   "nbconvert_exporter": "python",
   "pygments_lexer": "ipython2",
   "version": "2.7.13"
  }
 },
 "nbformat": 4,
 "nbformat_minor": 2
}
